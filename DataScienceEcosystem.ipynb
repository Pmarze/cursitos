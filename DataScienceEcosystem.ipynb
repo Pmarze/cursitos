{
  "metadata": {
    "kernelspec": {
      "name": "python",
      "display_name": "Python (Pyodide)",
      "language": "python"
    },
    "language_info": {
      "codemirror_mode": {
        "name": "python",
        "version": 3
      },
      "file_extension": ".py",
      "mimetype": "text/x-python",
      "name": "python",
      "nbconvert_exporter": "python",
      "pygments_lexer": "ipython3",
      "version": "3.8"
    }
  },
  "nbformat_minor": 4,
  "nbformat": 4,
  "cells": [
    {
      "cell_type": "markdown",
      "source": "# Data Science Tools and Ecosystem",
      "metadata": {}
    },
    {
      "cell_type": "markdown",
      "source": "Este cuaderno contienen distintas celdas con información sobre herramientas para ciencia de datos.\n\nGracias por tomar el tiempo de revisión :D",
      "metadata": {}
    },
    {
      "cell_type": "markdown",
      "source": "<b>Objectives:</b>\n<ul>\n<li>Creation of markdowns</li>\n<li>Practice code documentation</li>\n<li>Practice equation writting</li>\n<li>Familiarize with notebook capabilities</li>\n<li>Practice coding</li>\n</ul>",
      "metadata": {}
    },
    {
      "cell_type": "markdown",
      "source": "## Autor\nPablo Martínez",
      "metadata": {}
    },
    {
      "cell_type": "markdown",
      "source": "Some of the popular languages that Data Scientists use are:\n<ol>\n<li>Python</li>\n<li>R</li>\n<li>Fortran</li>\n<li>C++</li>\n</ol>",
      "metadata": {}
    },
    {
      "cell_type": "markdown",
      "source": "Some of the commonly used libraries used by Data Scientists include:\n<ol>\n<li>Numpy</li>\n<li>Pandas</li>\n<li>Matplotlib</li>\n<li>scikitlearn</li>\n<li>Keras</li>\n</ol>",
      "metadata": {}
    },
    {
      "cell_type": "markdown",
      "source": "| Data Science Tools |\n| ------------------ |\n| Google Collab |\n| RStudio |\n| VScode |",
      "metadata": {}
    },
    {
      "cell_type": "markdown",
      "source": "### Below are a few examples of evaluating arithmetic expressions in Python.\n$$\n  \\nabla \\cdot E = \\frac{\\rho}{\\epsilon_0}\n$$\n$$\n  \\nabla \\cdot B = 0\n$$\n$$\n  \\nabla \\times E = -\\frac{\\partial B}{\\partial t}\n$$\n$$\n  \\nabla \\times B = \\mu_0 J + \\mu_0 \\epsilon_0\\frac{\\partial E}{\\partial t}\n$$",
      "metadata": {}
    },
    {
      "cell_type": "code",
      "source": "# This a simple arithmetic expression to mutiply then add integers\n(3*4)+5",
      "metadata": {
        "trusted": true
      },
      "outputs": [
        {
          "execution_count": 4,
          "output_type": "execute_result",
          "data": {
            "text/plain": "17"
          },
          "metadata": {}
        }
      ],
      "execution_count": 4
    },
    {
      "cell_type": "code",
      "source": "# This will convert 200 minutes to hours by diving by 60\nminutes = 200\nhours = minutes/60\nprint(hours)",
      "metadata": {
        "trusted": true
      },
      "outputs": [
        {
          "name": "stdout",
          "text": "3.3333333333333335\n",
          "output_type": "stream"
        }
      ],
      "execution_count": 8
    }
  ]
}